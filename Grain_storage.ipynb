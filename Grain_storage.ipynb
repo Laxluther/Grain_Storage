{
  "nbformat": 4,
  "nbformat_minor": 0,
  "metadata": {
    "colab": {
      "provenance": [],
      "authorship_tag": "ABX9TyOggIzknuuIh7VNxszKhzFz",
      "include_colab_link": true
    },
    "kernelspec": {
      "name": "python3",
      "display_name": "Python 3"
    },
    "language_info": {
      "name": "python"
    }
  },
  "cells": [
    {
      "cell_type": "markdown",
      "metadata": {
        "id": "view-in-github",
        "colab_type": "text"
      },
      "source": [
        "<a href=\"https://colab.research.google.com/github/Laxluther/Grain_Storage/blob/main/Grain_storage.ipynb\" target=\"_parent\"><img src=\"https://colab.research.google.com/assets/colab-badge.svg\" alt=\"Open In Colab\"/></a>"
      ]
    },
    {
      "cell_type": "code",
      "source": [
        "import openai\n",
        "openai.api_key = \"API_KEY\"\n",
        "import requests\n",
        "from PIL import Image"
      ],
      "metadata": {
        "id": "9kjhXlLC1h1B"
      },
      "execution_count": 61,
      "outputs": []
    },
    {
      "cell_type": "code",
      "execution_count": 62,
      "metadata": {
        "colab": {
          "base_uri": "https://localhost:8080/"
        },
        "id": "gUsF_8I4QDZc",
        "outputId": "c412baf2-3237-42ab-a37d-d508e45a4b5f"
      },
      "outputs": [
        {
          "name": "stdout",
          "output_type": "stream",
          "text": [
            "Length of land in meter \n",
            "20\n",
            "Width of land in meter \n",
            "15\n"
          ]
        }
      ],
      "source": [
        "# Land_dimention\n",
        "length_of_land = int(input(\"Length of land in meter \\n\"))\n",
        "width_of_land = int(input(\"Width of land in meter \\n\"))"
      ]
    },
    {
      "cell_type": "code",
      "source": [
        "# Area that can be used for grain storage\n",
        "length_for_grain_use = length_of_land - 2.6\n",
        "width_of_grain_use = width_of_land - 2.6\n",
        "area_available_for_grain_use = length_for_grain_use * width_of_grain_use"
      ],
      "metadata": {
        "id": "h6-icnsBQYFq"
      },
      "execution_count": 63,
      "outputs": []
    },
    {
      "cell_type": "code",
      "source": [
        "print(f\"{area_available_for_grain_use} ㎡\")"
      ],
      "metadata": {
        "colab": {
          "base_uri": "https://localhost:8080/"
        },
        "id": "321c9eDpQYSu",
        "outputId": "f6a06ec7-e5d7-482f-d329-87c730ab2db6"
      },
      "execution_count": 64,
      "outputs": [
        {
          "output_type": "stream",
          "name": "stdout",
          "text": [
            "215.76 ㎡\n"
          ]
        }
      ]
    },
    {
      "cell_type": "code",
      "source": [
        "# Bag dimention (source irri report)\n",
        "length_of_bag = 0.9398 # in meter\n",
        "width_of_bag = 0.5715 # in meter\n",
        "thikness_of_bag = 0.3 # in meter\n",
        "num_bag_per_layer = 96\n",
        "area_of_single_bag = length_of_bag * width_of_bag"
      ],
      "metadata": {
        "id": "VefBKOPDQYd6"
      },
      "execution_count": 65,
      "outputs": []
    },
    {
      "cell_type": "code",
      "source": [
        "print(f\"{area_of_single_bag} ㎡\")"
      ],
      "metadata": {
        "colab": {
          "base_uri": "https://localhost:8080/"
        },
        "id": "yNKxRlmYQnCc",
        "outputId": "2ba35b1b-853a-4e1c-cddc-98fa72bec5e4"
      },
      "execution_count": 66,
      "outputs": [
        {
          "output_type": "stream",
          "name": "stdout",
          "text": [
            "0.5370957 ㎡\n"
          ]
        }
      ]
    },
    {
      "cell_type": "code",
      "source": [
        "weight_per_bag = [50,75,80] #in kg\n",
        "num_of_layers = [20,24,18]\n",
        "type_of_grain = [\"wheat\",\"rice\",\"paddy\"]"
      ],
      "metadata": {
        "id": "pKpF9jOT2cLy"
      },
      "execution_count": 67,
      "outputs": []
    },
    {
      "cell_type": "code",
      "source": [
        "# Area covered by single stack including the needed spacing\n",
        "area_of_stack = (12*length_of_bag +1)*(8*width_of_bag +1)\n",
        "print(area_of_stack)"
      ],
      "metadata": {
        "id": "k-IT2eN0Q31p",
        "colab": {
          "base_uri": "https://localhost:8080/"
        },
        "outputId": "6b08dffb-89f0-402b-885d-170915adaf7c"
      },
      "execution_count": 68,
      "outputs": [
        {
          "output_type": "stream",
          "name": "stdout",
          "text": [
            "68.4107872\n"
          ]
        }
      ]
    },
    {
      "cell_type": "code",
      "source": [
        "# Num of stacks\n",
        "num_of_stacks = round(area_available_for_grain_use / area_of_stack)\n",
        "print(num_of_stacks)"
      ],
      "metadata": {
        "id": "yg-38kvJQ4CY",
        "colab": {
          "base_uri": "https://localhost:8080/"
        },
        "outputId": "5642ddf9-a134-4e53-c288-fa6b1b339067"
      },
      "execution_count": 69,
      "outputs": [
        {
          "output_type": "stream",
          "name": "stdout",
          "text": [
            "3\n"
          ]
        }
      ]
    },
    {
      "cell_type": "code",
      "source": [
        "# Storage capacity\n",
        "for i in range(0,len(type_of_grain)):\n",
        "  num_of_bags = num_of_stacks * num_bag_per_layer * num_of_layers[i]\n",
        "  capacity = weight_per_bag[i] * num_of_bags\n",
        "  print(f\"for {type_of_grain[i]} {capacity/1000} tons\")"
      ],
      "metadata": {
        "id": "I_Qkk82EQ4WK",
        "colab": {
          "base_uri": "https://localhost:8080/"
        },
        "outputId": "a0ee0cea-ccb0-4041-d20e-f987c52890ad"
      },
      "execution_count": 71,
      "outputs": [
        {
          "output_type": "stream",
          "name": "stdout",
          "text": [
            "for wheat 288.0 tons\n",
            "for rice 518.4 tons\n",
            "for paddy 414.72 tons\n"
          ]
        }
      ]
    }
  ]
}