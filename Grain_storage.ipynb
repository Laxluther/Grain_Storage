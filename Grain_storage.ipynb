{
  "nbformat": 4,
  "nbformat_minor": 0,
  "metadata": {
    "colab": {
      "provenance": [],
      "authorship_tag": "ABX9TyNybjwuKlGCE6faMlw2+V2b",
      "include_colab_link": true
    },
    "kernelspec": {
      "name": "python3",
      "display_name": "Python 3"
    },
    "language_info": {
      "name": "python"
    }
  },
  "cells": [
    {
      "cell_type": "markdown",
      "metadata": {
        "id": "view-in-github",
        "colab_type": "text"
      },
      "source": [
        "<a href=\"https://colab.research.google.com/github/Laxluther/Grain_Storage/blob/main/Grain_storage.ipynb\" target=\"_parent\"><img src=\"https://colab.research.google.com/assets/colab-badge.svg\" alt=\"Open In Colab\"/></a>"
      ]
    },
    {
      "cell_type": "code",
      "execution_count": 11,
      "metadata": {
        "colab": {
          "base_uri": "https://localhost:8080/"
        },
        "id": "gUsF_8I4QDZc",
        "outputId": "41d6bf2d-749c-498c-ab66-dedf57b04e73"
      },
      "outputs": [
        {
          "name": "stdout",
          "output_type": "stream",
          "text": [
            "Length of land in meter \n",
            "30\n",
            "Width of land in meter \n",
            "25\n"
          ]
        }
      ],
      "source": [
        "# Land_dimention\n",
        "length_of_land = int(input(\"Length of land in meter \\n\"))\n",
        "width_of_land = int(input(\"Width of land in meter \\n\"))"
      ]
    },
    {
      "cell_type": "code",
      "source": [
        "# Area that can be used for grain storage\n",
        "length_for_grain_use = length_of_land - 2.6\n",
        "width_of_grain_use = width_of_land - 2.6\n",
        "area_available_for_grain_use = length_for_grain_use * width_of_grain_use"
      ],
      "metadata": {
        "id": "h6-icnsBQYFq"
      },
      "execution_count": 12,
      "outputs": []
    },
    {
      "cell_type": "markdown",
      "source": [
        "# Need to change according to type of grain but for now average of 50kg is taken becouse that works with all type of grain."
      ],
      "metadata": {
        "id": "1JbzagRQrvhC"
      }
    },
    {
      "cell_type": "code",
      "source": [
        "print(f\"{area_available_for_grain_use} ㎡\")"
      ],
      "metadata": {
        "colab": {
          "base_uri": "https://localhost:8080/"
        },
        "id": "321c9eDpQYSu",
        "outputId": "dfc830ee-01a2-40ba-9b19-1e81fba6bbf4"
      },
      "execution_count": 13,
      "outputs": [
        {
          "output_type": "stream",
          "name": "stdout",
          "text": [
            "613.7599999999999 ㎡\n"
          ]
        }
      ]
    },
    {
      "cell_type": "code",
      "source": [
        "# Bag dimention (source irri report)\n",
        "length_of_bag = 0.9398 # in meter\n",
        "width_of_bag = 0.5715 # in meter\n",
        "thikness_of_bag = 0.3 # in meter\n",
        "weight_per_bag = 50 #in kg\n",
        "num_bag_per_layer = 96\n",
        "num_of_layers = 20\n",
        "area_of_single_bag = length_of_bag * width_of_bag"
      ],
      "metadata": {
        "id": "VefBKOPDQYd6"
      },
      "execution_count": 30,
      "outputs": []
    },
    {
      "cell_type": "code",
      "source": [
        "print(f\"{area_of_single_bag} ㎡\")"
      ],
      "metadata": {
        "colab": {
          "base_uri": "https://localhost:8080/"
        },
        "id": "yNKxRlmYQnCc",
        "outputId": "96de6cb4-4312-4421-c6b9-c6753b96cdd0"
      },
      "execution_count": 31,
      "outputs": [
        {
          "output_type": "stream",
          "name": "stdout",
          "text": [
            "0.5370957 ㎡\n"
          ]
        }
      ]
    },
    {
      "cell_type": "code",
      "source": [
        "# Area covered by single stack including the needed spacing\n",
        "area_of_stack = (12*length_of_bag +1)*(8*width_of_bag +1)\n",
        "print(area_of_stack)"
      ],
      "metadata": {
        "id": "k-IT2eN0Q31p",
        "colab": {
          "base_uri": "https://localhost:8080/"
        },
        "outputId": "7d9d31a9-d73a-462a-c237-a52fcd545876"
      },
      "execution_count": 32,
      "outputs": [
        {
          "output_type": "stream",
          "name": "stdout",
          "text": [
            "68.4107872\n"
          ]
        }
      ]
    },
    {
      "cell_type": "code",
      "source": [
        "# Num of stacks\n",
        "num_of_stacks = round(area_available_for_grain_use / area_of_stack)\n",
        "print(num_of_stacks)"
      ],
      "metadata": {
        "id": "yg-38kvJQ4CY",
        "colab": {
          "base_uri": "https://localhost:8080/"
        },
        "outputId": "e8ff9f64-b694-4761-8a81-724297d02c26"
      },
      "execution_count": 33,
      "outputs": [
        {
          "output_type": "stream",
          "name": "stdout",
          "text": [
            "9\n"
          ]
        }
      ]
    },
    {
      "cell_type": "code",
      "source": [
        "# Storage capacity if 20 layers with 96 bags in each is arranged.\n",
        "num_of_bags = 9 * num_bag_per_layer * num_of_layers\n",
        "capacity = weight_per_bag * num_of_bags\n",
        "print(f\"{capacity/1000} tons\")"
      ],
      "metadata": {
        "id": "I_Qkk82EQ4WK",
        "colab": {
          "base_uri": "https://localhost:8080/"
        },
        "outputId": "a41e46d6-ba77-45d8-ac21-958f4f6096ed"
      },
      "execution_count": 34,
      "outputs": [
        {
          "output_type": "stream",
          "name": "stdout",
          "text": [
            "864.0 tons\n"
          ]
        }
      ]
    }
  ]
}