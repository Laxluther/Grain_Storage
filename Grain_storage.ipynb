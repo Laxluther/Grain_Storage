{
  "nbformat": 4,
  "nbformat_minor": 0,
  "metadata": {
    "colab": {
      "provenance": [],
      "authorship_tag": "ABX9TyMvIEKzXsHrj63ZWYCjoCYd",
      "include_colab_link": true
    },
    "kernelspec": {
      "name": "python3",
      "display_name": "Python 3"
    },
    "language_info": {
      "name": "python"
    }
  },
  "cells": [
    {
      "cell_type": "markdown",
      "metadata": {
        "id": "view-in-github",
        "colab_type": "text"
      },
      "source": [
        "<a href=\"https://colab.research.google.com/github/Laxluther/Grain_Storage/blob/main/Grain_storage.ipynb\" target=\"_parent\"><img src=\"https://colab.research.google.com/assets/colab-badge.svg\" alt=\"Open In Colab\"/></a>"
      ]
    },
    {
      "cell_type": "code",
      "execution_count": null,
      "metadata": {
        "colab": {
          "base_uri": "https://localhost:8080/"
        },
        "id": "gUsF_8I4QDZc",
        "outputId": "5dfb31b4-4333-41b7-8df1-1b1977565404"
      },
      "outputs": [
        {
          "name": "stdout",
          "output_type": "stream",
          "text": [
            "Length of land in meter \n",
            "25\n",
            "Width of land in meter \n",
            "23\n"
          ]
        }
      ],
      "source": [
        "# Land_dimention\n",
        "length_of_land = int(input(\"Length of land in meter \\n\"))\n",
        "width_of_land = int(input(\"Width of land in meter \\n\"))"
      ]
    },
    {
      "cell_type": "code",
      "source": [
        "# Area that can be used for grain storage\n",
        "length_for_grain_use = length_of_land - 2\n",
        "width_of_grain_use = width_of_land - 2\n",
        "area_available_for_grain_use = length_for_grain_use * width_of_grain_use"
      ],
      "metadata": {
        "id": "h6-icnsBQYFq"
      },
      "execution_count": null,
      "outputs": []
    },
    {
      "cell_type": "code",
      "source": [
        "print(f\"{area_available_for_grain_use} ㎡\")"
      ],
      "metadata": {
        "colab": {
          "base_uri": "https://localhost:8080/"
        },
        "id": "321c9eDpQYSu",
        "outputId": "2ce1dd5a-6804-4b6e-dc38-aa1b2f0a17b3"
      },
      "execution_count": null,
      "outputs": [
        {
          "output_type": "stream",
          "name": "stdout",
          "text": [
            "483 ㎡\n"
          ]
        }
      ]
    },
    {
      "cell_type": "code",
      "source": [
        "#Bag dimention (source irri report)\n",
        "length_of_bag = 0.9398 # in meter\n",
        "width_of_bag = 0.5715 # in meter\n",
        "thikness_of_bag = 0.3 # in meter\n",
        "weight_per_bag = 50 #in kg\n",
        "# need to change according to type of grain but for now average of 50kg is taken becouse that works with all type of grain.\n",
        "area_of_single_bag = length_of_bag * width_of_bag"
      ],
      "metadata": {
        "id": "VefBKOPDQYd6"
      },
      "execution_count": null,
      "outputs": []
    },
    {
      "cell_type": "code",
      "source": [
        "print(f\"{area_of_single_bag} ㎡\")"
      ],
      "metadata": {
        "colab": {
          "base_uri": "https://localhost:8080/"
        },
        "id": "yNKxRlmYQnCc",
        "outputId": "a3f8561b-646c-4288-d199-b6e6da2f969c"
      },
      "execution_count": null,
      "outputs": [
        {
          "output_type": "stream",
          "name": "stdout",
          "text": [
            "0.5370957 ㎡\n"
          ]
        }
      ]
    },
    {
      "cell_type": "code",
      "source": [],
      "metadata": {
        "id": "k-IT2eN0Q31p"
      },
      "execution_count": null,
      "outputs": []
    },
    {
      "cell_type": "code",
      "source": [],
      "metadata": {
        "id": "yg-38kvJQ4CY"
      },
      "execution_count": null,
      "outputs": []
    },
    {
      "cell_type": "code",
      "source": [],
      "metadata": {
        "id": "I_Qkk82EQ4WK"
      },
      "execution_count": null,
      "outputs": []
    }
  ]
}