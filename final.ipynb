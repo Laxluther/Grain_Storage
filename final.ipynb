{
  "nbformat": 4,
  "nbformat_minor": 0,
  "metadata": {
    "colab": {
      "provenance": [],
      "authorship_tag": "ABX9TyNUBozAF6bhr2tdJX4x8MIE",
      "include_colab_link": true
    },
    "kernelspec": {
      "name": "python3",
      "display_name": "Python 3"
    },
    "language_info": {
      "name": "python"
    }
  },
  "cells": [
    {
      "cell_type": "markdown",
      "metadata": {
        "id": "view-in-github",
        "colab_type": "text"
      },
      "source": [
        "<a href=\"https://colab.research.google.com/github/Laxluther/Grain_Storage/blob/main/final.ipynb\" target=\"_parent\"><img src=\"https://colab.research.google.com/assets/colab-badge.svg\" alt=\"Open In Colab\"/></a>"
      ]
    },
    {
      "cell_type": "code",
      "execution_count": null,
      "metadata": {
        "id": "yEc0PTPtpTmb"
      },
      "outputs": [],
      "source": [
        "# Land dimensions\n",
        "length_of_land = int(input(\"Length of land in meter \\n\"))\n",
        "width_of_land = int(input(\"Width of land in meter \\n\"))\n",
        "\n",
        "# Area that can be used for grain storage\n",
        "length_for_grain_use = length_of_land - 2.6\n",
        "width_for_grain_use = width_of_land - 2.6\n",
        "area_available_for_grain_use = length_for_grain_use * width_for_grain_use\n",
        "\n",
        "print(f\"{area_available_for_grain_use} ㎡\")\n",
        "\n",
        "\n",
        "# Bag dimensions (source irri report)\n",
        "length_of_bag = 0.9398  # in meter\n",
        "width_of_bag = 0.5715   # in meter\n",
        "thikness_of_bag = 0.3   # in meter\n",
        "area_of_single_bag = length_of_bag * width_of_bag\n",
        "\n",
        "print(f\"{area_of_single_bag} ㎡\")\n",
        "\n",
        "weight_per_bag = [50, 75, 80]  # in kg\n",
        "num_of_layers = [20, 24, 18]\n",
        "type_of_grain = [\"wheat\", \"rice\", \"paddy\"]\n",
        "\n",
        "bag_counts_per_stack = [96, 88, 72]  # List of bag counts per stack\n",
        "\n",
        "\n"
      ]
    },
    {
      "cell_type": "code",
      "source": [
        "# Function to find two close-by numbers whose multiplication is equal to a given number\n",
        "def find_close_numbers(target):\n",
        "    lower = int(target**0.5)\n",
        "    while target % lower != 0:\n",
        "        lower -= 1\n",
        "    return lower, target // lower"
      ],
      "metadata": {
        "id": "EwJOYL8ne0y9"
      },
      "execution_count": 46,
      "outputs": []
    },
    {
      "cell_type": "code",
      "source": [
        "\n",
        "# Initialize variables to keep track of best utilization\n",
        "best_utilization = 0\n",
        "best_num_bags_per_layer = 0\n",
        "best_stack_arrangement = (0, 0)  # Initialize with a dummy arrangement\n",
        "\n",
        "# Iterate through possible bag counts per layer to find the best utilization\n",
        "for num_bags_per_layer in bag_counts_per_stack:\n",
        "    # Calculate stack dimensions using the function\n",
        "    width_of_stack, length_of_stack = find_close_numbers(num_bags_per_layer)\n",
        "    area_of_stack = (length_of_stack * length_of_bag + 1) * (width_of_stack * width_of_bag + 1)\n",
        "    num_of_stacks = round(area_available_for_grain_use / (area_of_stack))\n",
        "    utilization = num_of_stacks * area_of_stack / area_available_for_grain_use\n",
        "    if utilization >= best_utilization:\n",
        "        best_utilization = utilization\n",
        "        best_num_bags_per_layer = num_bags_per_layer\n",
        "        best_stack_arrangement = (num_of_stacks, area_of_stack)\n",
        "\n",
        "num_of_stacks, area_of_stack = best_stack_arrangement\n"
      ],
      "metadata": {
        "id": "j3XUIXJUi0tz"
      },
      "execution_count": 47,
      "outputs": []
    },
    {
      "cell_type": "code",
      "source": [
        "if num_of_stacks > 0:\n",
        "    print(f\"Best bags per layer: {best_num_bags_per_layer}\")\n",
        "    print(f\"Number of stacks: {num_of_stacks}\")\n",
        "\n",
        "    # Calculate the number of bags and capacity\n",
        "    for i in range(len(type_of_grain)):\n",
        "        num_bag_per_layer = best_num_bags_per_layer\n",
        "        num_of_bags = num_of_stacks * num_bag_per_layer * num_of_layers[i]\n",
        "        capacity = weight_per_bag[i] * num_of_bags\n",
        "        print(f\"For {type_of_grain[i]}: {capacity / 1000} tons\")\n",
        "\n",
        "    # Calculate left-out area\n",
        "    used_area = num_of_stacks * area_of_stack\n",
        "    left_out_area = area_available_for_grain_use - used_area\n",
        "    if left_out_area < 0.01:  # Adjust this threshold as needed\n",
        "        left_out_area = 0\n",
        "\n",
        "    left_out_width = left_out_area / width_for_grain_use  # Use width here\n",
        "    left_out_length = left_out_area / length_for_grain_use  # Use length here\n",
        "    print(f\"Used area: {used_area} ㎡\")\n",
        "    print(f\"Left-out area: {left_out_area} ㎡\")\n",
        "    print(f\"Width of left-out area: {left_out_width} m\")\n",
        "    print(f\"Length of left-out area: {left_out_length} m\")\n",
        "else:\n",
        "    print(\"No suitable arrangement found.\")\n"
      ],
      "metadata": {
        "colab": {
          "base_uri": "https://localhost:8080/"
        },
        "id": "p7ADYs60jdkI",
        "outputId": "fb949bf7-2b4e-4396-cb8a-aa4b66d605ff"
      },
      "execution_count": 48,
      "outputs": [
        {
          "output_type": "stream",
          "name": "stdout",
          "text": [
            "Best bags per layer: 72\n",
            "Number of stacks: 82\n",
            "For wheat: 5904.0 tons\n",
            "For rice: 10627.2 tons\n",
            "For paddy: 8501.76 tons\n",
            "Used area: 4321.4894128 ㎡\n",
            "Left-out area: 0 ㎡\n",
            "Width of left-out area: 0.0 m\n",
            "Length of left-out area: 0.0 m\n"
          ]
        }
      ]
    }
  ]
}