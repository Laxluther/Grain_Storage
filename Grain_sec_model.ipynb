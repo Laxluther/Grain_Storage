{
  "nbformat": 4,
  "nbformat_minor": 0,
  "metadata": {
    "colab": {
      "provenance": [],
      "toc_visible": true,
      "authorship_tag": "ABX9TyM1DuJyARTklHtW5ObQyon0",
      "include_colab_link": true
    },
    "kernelspec": {
      "name": "python3",
      "display_name": "Python 3"
    },
    "language_info": {
      "name": "python"
    }
  },
  "cells": [
    {
      "cell_type": "markdown",
      "metadata": {
        "id": "view-in-github",
        "colab_type": "text"
      },
      "source": [
        "<a href=\"https://colab.research.google.com/github/Laxluther/Grain_Storage/blob/main/Grain_sec_model.ipynb\" target=\"_parent\"><img src=\"https://colab.research.google.com/assets/colab-badge.svg\" alt=\"Open In Colab\"/></a>"
      ]
    },
    {
      "cell_type": "code",
      "execution_count": 37,
      "metadata": {
        "id": "5Qcm56BoIKlv"
      },
      "outputs": [],
      "source": [
        "\n",
        "import math\n",
        "import matplotlib.pyplot as plt\n",
        "from matplotlib.patches import Rectangle"
      ]
    },
    {
      "cell_type": "code",
      "source": [
        "def calculate_bags_per_stack(stack_area):\n",
        "  max_bag_per_stack = 96\n",
        "  return min(max_bag_per_stack, math.floor(stack_area/bag_area))"
      ],
      "metadata": {
        "id": "OPvlA1io1Lfl"
      },
      "execution_count": 38,
      "outputs": []
    },
    {
      "cell_type": "code",
      "source": [
        "# Input\n",
        "land_width = float(input(\"Enter land width: \"))\n",
        "land_length = float(input(\"Enter land length: \"))\n",
        "bag_dimensions = (0.6, 1.8, 0.3)\n",
        "bags_per_layer = 96\n",
        "bag_weight = 50"
      ],
      "metadata": {
        "colab": {
          "base_uri": "https://localhost:8080/"
        },
        "id": "zauzopoB1H4n",
        "outputId": "4a92e1df-e5c0-450b-cbdf-24f9d7e49330"
      },
      "execution_count": 39,
      "outputs": [
        {
          "name": "stdout",
          "output_type": "stream",
          "text": [
            "Enter land width: 10\n",
            "Enter land length: 9\n"
          ]
        }
      ]
    },
    {
      "cell_type": "code",
      "source": [
        "# Calculation\n",
        "bag_area = bag_dimensions[0] * bag_dimensions[1]\n",
        "gap_width = 1.0\n",
        "gap_length = 2.0"
      ],
      "metadata": {
        "id": "brB0c8ze1Xdr"
      },
      "execution_count": 40,
      "outputs": []
    },
    {
      "cell_type": "code",
      "source": [
        "# Visualization\n",
        "fig = plt.figure()\n",
        "ax = fig.add_subplot(111)\n",
        "ax.set_xlim(0, land_width)\n",
        "ax.set_ylim(0, land_length)\n",
        "ax.set_aspect(\"equal\")"
      ],
      "metadata": {
        "colab": {
          "base_uri": "https://localhost:8080/",
          "height": 435
        },
        "id": "8Xevnm5G1dvD",
        "outputId": "0d3825b5-aebf-4d8f-88cd-d275ee065a69"
      },
      "execution_count": 41,
      "outputs": [
        {
          "output_type": "display_data",
          "data": {
            "text/plain": [
              "<Figure size 640x480 with 1 Axes>"
            ],
            "image/png": "[encoded data removed]"
          },
          "metadata": {}
        }
      ]
    },
    {
      "cell_type": "code",
      "source": [
        "x, y = 0, 0\n",
        "stack_count = 0\n",
        "while y + bag_dimensions[1] <= land_length:\n",
        "  stack_area = (land_width - x) * bag_dimensions[1]\n",
        "  bag_per_stack = calculate_bags_per_stack(stack_area)\n",
        "  if bag_per_stack == 0:\n",
        "    break\n",
        "  for _ in range(bag_per_stack):\n",
        "      if y + bag_dimensions[1] > land_length:\n",
        "          break\n",
        "      rect = Rectangle((x, y), bag_dimensions[0], bag_dimensions[1], linewidth=1, edgecolor='r', facecolor='none')\n",
        "      ax.add_patch(rect)\n",
        "      y += bag_dimensions[1] + gap_length\n",
        "  y = 0\n",
        "  x += bag_dimensions[0] + gap_width\n",
        "  stack_count += 1\n",
        "\n",
        "\n",
        "print(f\"Maximum stacks: {stack_count}\")"
      ],
      "metadata": {
        "colab": {
          "base_uri": "https://localhost:8080/"
        },
        "id": "Uhmpez7x1jmD",
        "outputId": "32863775-b828-4977-c852-cde456d9ffdf"
      },
      "execution_count": 42,
      "outputs": [
        {
          "output_type": "stream",
          "name": "stdout",
          "text": [
            "Maximum stacks: 6\n"
          ]
        }
      ]
    },
    {
      "cell_type": "code",
      "source": [
        "# Save the plot as an image\n",
        "plt.savefig(\"bag_arrangement.png\")\n",
        "print(\"plot saved as 'bag_arrangement.png'\")"
      ],
      "metadata": {
        "colab": {
          "base_uri": "https://localhost:8080/",
          "height": 52
        },
        "id": "P2486YgKDo9K",
        "outputId": "538e67ec-1db3-46a5-b2f6-a349d1e56d98"
      },
      "execution_count": 43,
      "outputs": [
        {
          "output_type": "stream",
          "name": "stdout",
          "text": [
            "plot saved as 'bag_arrangement.png'\n"
          ]
        },
        {
          "output_type": "display_data",
          "data": {
            "text/plain": [
              "<Figure size 640x480 with 0 Axes>"
            ]
          },
          "metadata": {}
        }
      ]
    }
  ]
}